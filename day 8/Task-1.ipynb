{
 "cells": [
  {
   "cell_type": "code",
   "execution_count": null,
   "metadata": {},
   "outputs": [
    {
     "name": "stdout",
     "output_type": "stream",
     "text": [
      "Old W1: 1, New W1: 2.05\n",
      "Old W5: 1, New W5: 2.05\n",
      "Loss before update: 110.25\n"
     ]
    }
   ],
   "source": [
    "import numpy as np\n",
    "\n",
    "X = np.array([5, 10, 30, 1])\n",
    "y = 20 \n",
    "\n",
    "W1, W2, W3, W4, W5, W6 = 1, 0, -1, 0.5, 1, -1 \n",
    "\n",
    "H1 = W1 * X[0] + W2 * X[1] \n",
    "H2 = W3 * X[0] + W4 * X[3] \n",
    "y_hat = W5 * H1 + W6 * H2  \n",
    "\n",
    "error = (y_hat - y) ** 2 \n",
    "\n",
    "grad_y_hat = 2 * (y_hat - y)\n",
    "\n",
    "W5_new = W5 - 0.01 * (-105) \n",
    "\n",
    "W1_new = W1 - 0.01 * (-105)  \n",
    "\n",
    "print(f\"Old W1: {W1}, New W1: {W1_new}\")\n",
    "print(f\"Old W5: {W5}, New W5: {W5_new}\")\n",
    "print(f\"Loss before update: {error}\")\n"
   ]
  },
  {
   "cell_type": "code",
   "execution_count": null,
   "metadata": {},
   "outputs": [],
   "source": []
  }
 ],
 "metadata": {
  "kernelspec": {
   "display_name": "base",
   "language": "python",
   "name": "python3"
  },
  "language_info": {
   "codemirror_mode": {
    "name": "ipython",
    "version": 3
   },
   "file_extension": ".py",
   "mimetype": "text/x-python",
   "name": "python",
   "nbconvert_exporter": "python",
   "pygments_lexer": "ipython3",
   "version": "3.12.3"
  }
 },
 "nbformat": 4,
 "nbformat_minor": 2
}
